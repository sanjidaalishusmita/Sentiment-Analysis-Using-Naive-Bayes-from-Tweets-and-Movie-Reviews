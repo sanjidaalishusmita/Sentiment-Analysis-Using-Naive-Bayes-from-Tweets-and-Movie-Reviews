{
 "cells": [
  {
   "cell_type": "markdown",
   "id": "b50078ae",
   "metadata": {},
   "source": [
    "## Importing Packages"
   ]
  },
  {
   "cell_type": "code",
   "execution_count": 3,
   "id": "adc7eda7",
   "metadata": {},
   "outputs": [],
   "source": [
    "import tensorflow as tf\n",
    "import numpy as np\n",
    "import matplotlib.pyplot as plt\n",
    "import keras\n",
    "from keras.datasets import imdb"
   ]
  },
  {
   "cell_type": "code",
   "execution_count": 2,
   "id": "2ed81e7e",
   "metadata": {},
   "outputs": [],
   "source": [
    "from sklearn.naive_bayes import BernoulliNB\n",
    "from sklearn.naive_bayes import MultinomialNB\n",
    "from sklearn.naive_bayes import GaussianNB\n",
    "from sklearn.naive_bayes import ComplementNB"
   ]
  },
  {
   "cell_type": "markdown",
   "id": "b732f2fd",
   "metadata": {},
   "source": [
    "## Loading Datasets"
   ]
  },
  {
   "cell_type": "code",
   "execution_count": 44,
   "id": "40a3a2e7",
   "metadata": {},
   "outputs": [],
   "source": [
    "# The data, split between train and test sets\n",
    "(x_train, y_train), (x_test, y_test) = imdb.load_data(path=\"imdb.npz\", num_words=None, skip_top=0, maxlen=None, seed=113, \n",
    "                                                      start_char=1, oov_char=2, index_from=3)"
   ]
  },
  {
   "cell_type": "code",
   "execution_count": 3,
   "id": "12a5b324",
   "metadata": {},
   "outputs": [],
   "source": [
    "#Getting Word index\n",
    "Words = imdb.get_word_index(path=\"imdb_word_index.json\")"
   ]
  },
  {
   "cell_type": "code",
   "execution_count": 4,
   "id": "5c4901b1",
   "metadata": {},
   "outputs": [
    {
     "data": {
      "text/plain": [
       "88584"
      ]
     },
     "execution_count": 4,
     "metadata": {},
     "output_type": "execute_result"
    }
   ],
   "source": [
    "len(Words.keys())"
   ]
  },
  {
   "cell_type": "code",
   "execution_count": 4,
   "id": "b43e905b",
   "metadata": {},
   "outputs": [
    {
     "data": {
      "text/html": [
       "<div>\n",
       "<style scoped>\n",
       "    .dataframe tbody tr th:only-of-type {\n",
       "        vertical-align: middle;\n",
       "    }\n",
       "\n",
       "    .dataframe tbody tr th {\n",
       "        vertical-align: top;\n",
       "    }\n",
       "\n",
       "    .dataframe thead th {\n",
       "        text-align: right;\n",
       "    }\n",
       "</style>\n",
       "<table border=\"1\" class=\"dataframe\">\n",
       "  <thead>\n",
       "    <tr style=\"text-align: right;\">\n",
       "      <th></th>\n",
       "      <th>review</th>\n",
       "      <th>sentiment</th>\n",
       "      <th>Label</th>\n",
       "    </tr>\n",
       "  </thead>\n",
       "  <tbody>\n",
       "    <tr>\n",
       "      <th>0</th>\n",
       "      <td>One of the other reviewers has mentioned that ...</td>\n",
       "      <td>positive</td>\n",
       "      <td>1</td>\n",
       "    </tr>\n",
       "    <tr>\n",
       "      <th>1</th>\n",
       "      <td>A wonderful little production. &lt;br /&gt;&lt;br /&gt;The...</td>\n",
       "      <td>positive</td>\n",
       "      <td>1</td>\n",
       "    </tr>\n",
       "    <tr>\n",
       "      <th>2</th>\n",
       "      <td>I thought this was a wonderful way to spend ti...</td>\n",
       "      <td>positive</td>\n",
       "      <td>1</td>\n",
       "    </tr>\n",
       "    <tr>\n",
       "      <th>3</th>\n",
       "      <td>Basically there's a family where a little boy ...</td>\n",
       "      <td>negative</td>\n",
       "      <td>0</td>\n",
       "    </tr>\n",
       "    <tr>\n",
       "      <th>4</th>\n",
       "      <td>Petter Mattei's \"Love in the Time of Money\" is...</td>\n",
       "      <td>positive</td>\n",
       "      <td>1</td>\n",
       "    </tr>\n",
       "    <tr>\n",
       "      <th>...</th>\n",
       "      <td>...</td>\n",
       "      <td>...</td>\n",
       "      <td>...</td>\n",
       "    </tr>\n",
       "    <tr>\n",
       "      <th>49995</th>\n",
       "      <td>I thought this movie did a down right good job...</td>\n",
       "      <td>positive</td>\n",
       "      <td>1</td>\n",
       "    </tr>\n",
       "    <tr>\n",
       "      <th>49996</th>\n",
       "      <td>Bad plot, bad dialogue, bad acting, idiotic di...</td>\n",
       "      <td>negative</td>\n",
       "      <td>0</td>\n",
       "    </tr>\n",
       "    <tr>\n",
       "      <th>49997</th>\n",
       "      <td>I am a Catholic taught in parochial elementary...</td>\n",
       "      <td>negative</td>\n",
       "      <td>0</td>\n",
       "    </tr>\n",
       "    <tr>\n",
       "      <th>49998</th>\n",
       "      <td>I'm going to have to disagree with the previou...</td>\n",
       "      <td>negative</td>\n",
       "      <td>0</td>\n",
       "    </tr>\n",
       "    <tr>\n",
       "      <th>49999</th>\n",
       "      <td>No one expects the Star Trek movies to be high...</td>\n",
       "      <td>negative</td>\n",
       "      <td>0</td>\n",
       "    </tr>\n",
       "  </tbody>\n",
       "</table>\n",
       "<p>50000 rows × 3 columns</p>\n",
       "</div>"
      ],
      "text/plain": [
       "                                                  review sentiment  Label\n",
       "0      One of the other reviewers has mentioned that ...  positive      1\n",
       "1      A wonderful little production. <br /><br />The...  positive      1\n",
       "2      I thought this was a wonderful way to spend ti...  positive      1\n",
       "3      Basically there's a family where a little boy ...  negative      0\n",
       "4      Petter Mattei's \"Love in the Time of Money\" is...  positive      1\n",
       "...                                                  ...       ...    ...\n",
       "49995  I thought this movie did a down right good job...  positive      1\n",
       "49996  Bad plot, bad dialogue, bad acting, idiotic di...  negative      0\n",
       "49997  I am a Catholic taught in parochial elementary...  negative      0\n",
       "49998  I'm going to have to disagree with the previou...  negative      0\n",
       "49999  No one expects the Star Trek movies to be high...  negative      0\n",
       "\n",
       "[50000 rows x 3 columns]"
      ]
     },
     "execution_count": 4,
     "metadata": {},
     "output_type": "execute_result"
    }
   ],
   "source": [
    "import pandas as pd\n",
    "import numpy as np\n",
    "\n",
    "imdb_data = pd.read_csv('IMDB Dataset.csv')\n",
    "\n",
    "imdb_data['Label'] = np.where(imdb_data['sentiment']=='positive',1,0)\n",
    "imdb_data"
   ]
  },
  {
   "cell_type": "code",
   "execution_count": 47,
   "id": "d79b61ce",
   "metadata": {},
   "outputs": [
    {
     "data": {
      "text/plain": [
       "50.0"
      ]
     },
     "execution_count": 47,
     "metadata": {},
     "output_type": "execute_result"
    }
   ],
   "source": [
    "np.mean(imdb_data['Label'] * 100)"
   ]
  },
  {
   "cell_type": "code",
   "execution_count": 5,
   "id": "6a8830f4",
   "metadata": {},
   "outputs": [],
   "source": [
    "from sklearn.model_selection import train_test_split\n",
    "\n",
    "\n",
    "X_train, X_test, Y_train, Y_test = train_test_split(imdb_data['review'], \n",
    "                                                    imdb_data['Label'], \n",
    "                                                    random_state=0)"
   ]
  },
  {
   "cell_type": "markdown",
   "id": "400d8a29",
   "metadata": {},
   "source": [
    "## Multinomial Naive Bayes"
   ]
  },
  {
   "cell_type": "code",
   "execution_count": 49,
   "id": "7add7c0e",
   "metadata": {},
   "outputs": [],
   "source": [
    "from sklearn.feature_extraction.text import CountVectorizer\n",
    "from sklearn.metrics import roc_auc_score, accuracy_score\n",
    "\n",
    "vect = CountVectorizer().fit(X_train)\n",
    "X_train_vectorized = vect.transform(X_train)\n",
    "X_test_vectorized = vect.transform(X_test)\n",
    "clfrNB = MultinomialNB(alpha = 0.1)\n",
    "clfrNB.fit(X_train_vectorized, Y_train)\n",
    "predicted_labels = clfrNB.predict(X_test_vectorized)\n",
    "score = accuracy_score(Y_test, predicted_labels)"
   ]
  },
  {
   "cell_type": "code",
   "execution_count": 50,
   "id": "973ef094",
   "metadata": {},
   "outputs": [
    {
     "data": {
      "text/plain": [
       "0.84664"
      ]
     },
     "execution_count": 50,
     "metadata": {},
     "output_type": "execute_result"
    }
   ],
   "source": [
    "score"
   ]
  },
  {
   "cell_type": "code",
   "execution_count": 49,
   "id": "337dc560",
   "metadata": {},
   "outputs": [],
   "source": [
    "from sklearn.feature_extraction.text import TfidfVectorizer\n",
    "\n",
    "# Fit & Transform X_train using Tfidf Vectorizer & get the feature names. {My Note}\n",
    "vect = TfidfVectorizer().fit(X_train)\n",
    "X_train_vectorized = vect.transform(X_train)\n",
    "feature_names = np.array(vect.get_feature_names_out())\n",
    "    \n",
    "# Sort index to get the top feature names. {My Note}\n",
    "sorted_tfidf_index = X_train_vectorized.max(0).toarray()[0].argsort()\n",
    "Sindex = feature_names[sorted_tfidf_index[:20]]\n",
    "Lindex = feature_names[sorted_tfidf_index[:-21:-1]]\n",
    "    \n",
    "# Create a DataFrame(Sparse) with all the scores and get the max of each row to get the sorted Series. {My Note}\n",
    "df = pd.DataFrame(X_train_vectorized.toarray(), columns = vect.get_feature_names_out())\n",
    "Series = sorted(df.max())\n",
    "    \n",
    "# Sort the smallest tf-idfs based on Score and then Alphabetically. {My Note}\n",
    "Sdf = pd.DataFrame(Series[:20],index = Sindex)\n",
    "Sdf = Sdf.reset_index()\n",
    "Sdf = Sdf.sort_values([0, \"index\"], ascending = (True, True))\n",
    "Sdf = Sdf.set_index('index')\n",
    "Sseries = pd.Series(Sdf[0], index = Sdf.index)\n",
    "# Sort the largest tf-idfs based on Score and then Alphabetically. {My Note}\n",
    "Ldf = pd.DataFrame(Series[:-21:-1],index = Lindex)\n",
    "Ldf = Ldf.reset_index()\n",
    "Ldf = Ldf.sort_values([0, \"index\"], ascending = (False, True))\n",
    "Ldf = Ldf.set_index('index')\n",
    "Lseries = pd.Series(Ldf[0], index = Ldf.index)"
   ]
  },
  {
   "cell_type": "code",
   "execution_count": 50,
   "id": "41589510",
   "metadata": {},
   "outputs": [
    {
     "data": {
      "text/plain": [
       "index\n",
       "trivialboring                                                               0.990542\n",
       "pokemon                                                                     0.926929\n",
       "ghoulies                                                                    0.913663\n",
       "robot                                                                       0.890573\n",
       "blahblahblahblahblahblahblahblahblahblahblahblahblahblahblahblahblahblah    0.883381\n",
       "nr                                                                          0.879292\n",
       "esperanto                                                                   0.864549\n",
       "uzumakis                                                                    0.859902\n",
       "ernest                                                                      0.859825\n",
       "bad                                                                         0.851258\n",
       "wei                                                                         0.843160\n",
       "darkman                                                                     0.838596\n",
       "primary                                                                     0.833850\n",
       "lupin                                                                       0.831662\n",
       "cycle                                                                       0.829345\n",
       "jokes                                                                       0.821357\n",
       "akasha                                                                      0.819173\n",
       "shemp                                                                       0.818947\n",
       "botched                                                                     0.816170\n",
       "steve                                                                       0.816081\n",
       "Name: 0, dtype: float64"
      ]
     },
     "execution_count": 50,
     "metadata": {},
     "output_type": "execute_result"
    }
   ],
   "source": [
    "Lseries"
   ]
  },
  {
   "cell_type": "code",
   "execution_count": 51,
   "id": "f51c58e9",
   "metadata": {},
   "outputs": [
    {
     "data": {
      "text/plain": [
       "index\n",
       "bishoff          0.015378\n",
       "brawled          0.015378\n",
       "chokeslammed     0.015378\n",
       "clotheslining    0.015378\n",
       "crossface        0.015378\n",
       "dudleys          0.015378\n",
       "ganged           0.015378\n",
       "gloated          0.015378\n",
       "goaded           0.015378\n",
       "hurracanrana     0.015378\n",
       "nwo              0.015378\n",
       "powerbomb        0.015378\n",
       "riksihi          0.015378\n",
       "rollup           0.015378\n",
       "somersaulted     0.015378\n",
       "somersaulting    0.015378\n",
       "sprinted         0.015378\n",
       "superkicked      0.015378\n",
       "suplexing        0.015378\n",
       "turnbuckles      0.015378\n",
       "Name: 0, dtype: float64"
      ]
     },
     "execution_count": 51,
     "metadata": {},
     "output_type": "execute_result"
    }
   ],
   "source": [
    "Sseries"
   ]
  },
  {
   "cell_type": "code",
   "execution_count": 52,
   "id": "84bcebc8",
   "metadata": {},
   "outputs": [
    {
     "data": {
      "text/plain": [
       "0.86416"
      ]
     },
     "execution_count": 52,
     "metadata": {},
     "output_type": "execute_result"
    }
   ],
   "source": [
    "X_test_vectorized = vect.transform(X_test)\n",
    "clfrNB = MultinomialNB(alpha = 0.1)\n",
    "clfrNB.fit(X_train_vectorized, Y_train)\n",
    "predicted_labels = clfrNB.predict(X_test_vectorized)\n",
    "score = accuracy_score(Y_test, predicted_labels)\n",
    "score"
   ]
  },
  {
   "cell_type": "markdown",
   "id": "9f0d58a8",
   "metadata": {},
   "source": [
    "## Bernoulli Naive Bayes"
   ]
  },
  {
   "cell_type": "code",
   "execution_count": 7,
   "id": "91f1d856",
   "metadata": {},
   "outputs": [],
   "source": [
    "from sklearn.feature_extraction.text import CountVectorizer\n",
    "from sklearn.metrics import roc_auc_score, accuracy_score\n",
    "\n",
    "vect = CountVectorizer().fit(X_train)\n",
    "X_train_vectorized = vect.transform(X_train)\n",
    "X_test_vectorized = vect.transform(X_test)\n",
    "clfrNB2 = BernoulliNB(alpha=0.1)\n",
    "clfrNB2.fit(X_train_vectorized, Y_train)\n",
    "predicted_labels = clfrNB2.predict(X_test_vectorized)\n",
    "score = accuracy_score(Y_test, predicted_labels)"
   ]
  },
  {
   "cell_type": "code",
   "execution_count": 8,
   "id": "8e16633b",
   "metadata": {},
   "outputs": [
    {
     "data": {
      "text/plain": [
       "0.85272"
      ]
     },
     "execution_count": 8,
     "metadata": {},
     "output_type": "execute_result"
    }
   ],
   "source": [
    "score"
   ]
  },
  {
   "cell_type": "code",
   "execution_count": 23,
   "id": "697eab40",
   "metadata": {},
   "outputs": [],
   "source": [
    "from sklearn.feature_extraction.text import TfidfVectorizer\n",
    "\n",
    "# Fit & Transform X_train using Tfidf Vectorizer & get the feature names. {My Note}\n",
    "vect = TfidfVectorizer().fit(X_train)\n",
    "X_train_vectorized = vect.transform(X_train)\n",
    "feature_names = np.array(vect.get_feature_names_out())\n",
    "    \n",
    "# Sort index to get the top feature names. {My Note}\n",
    "sorted_tfidf_index = X_train_vectorized.max(0).toarray()[0].argsort()\n",
    "Sindex = feature_names[sorted_tfidf_index[:20]]\n",
    "Lindex = feature_names[sorted_tfidf_index[:-21:-1]]\n",
    "    \n",
    "# Create a DataFrame(Sparse) with all the scores and get the max of each row to get the sorted Series. {My Note}\n",
    "df = pd.DataFrame(X_train_vectorized.toarray(), columns = vect.get_feature_names_out())\n",
    "Series = sorted(df.max())\n",
    "    \n",
    "# Sort the smallest tf-idfs based on Score and then Alphabetically. {My Note}\n",
    "Sdf = pd.DataFrame(Series[:20],index = Sindex)\n",
    "Sdf = Sdf.reset_index()\n",
    "Sdf = Sdf.sort_values([0, \"index\"], ascending = (True, True))\n",
    "Sdf = Sdf.set_index('index')\n",
    "Sseries = pd.Series(Sdf[0], index = Sdf.index)\n",
    "# Sort the largest tf-idfs based on Score and then Alphabetically. {My Note}\n",
    "Ldf = pd.DataFrame(Series[:-21:-1],index = Lindex)\n",
    "Ldf = Ldf.reset_index()\n",
    "Ldf = Ldf.sort_values([0, \"index\"], ascending = (False, True))\n",
    "Ldf = Ldf.set_index('index')\n",
    "Lseries = pd.Series(Ldf[0], index = Ldf.index)"
   ]
  },
  {
   "cell_type": "code",
   "execution_count": 24,
   "id": "7d74f966",
   "metadata": {},
   "outputs": [
    {
     "data": {
      "text/plain": [
       "index\n",
       "bishoff          0.015378\n",
       "brawled          0.015378\n",
       "chokeslammed     0.015378\n",
       "clotheslining    0.015378\n",
       "crossface        0.015378\n",
       "dudleys          0.015378\n",
       "ganged           0.015378\n",
       "gloated          0.015378\n",
       "goaded           0.015378\n",
       "hurracanrana     0.015378\n",
       "nwo              0.015378\n",
       "powerbomb        0.015378\n",
       "riksihi          0.015378\n",
       "rollup           0.015378\n",
       "somersaulted     0.015378\n",
       "somersaulting    0.015378\n",
       "sprinted         0.015378\n",
       "superkicked      0.015378\n",
       "suplexing        0.015378\n",
       "turnbuckles      0.015378\n",
       "Name: 0, dtype: float64"
      ]
     },
     "execution_count": 24,
     "metadata": {},
     "output_type": "execute_result"
    }
   ],
   "source": [
    "Sseries"
   ]
  },
  {
   "cell_type": "code",
   "execution_count": 25,
   "id": "aa5d6a7c",
   "metadata": {},
   "outputs": [
    {
     "data": {
      "text/plain": [
       "index\n",
       "trivialboring                                                               0.990542\n",
       "pokemon                                                                     0.926929\n",
       "ghoulies                                                                    0.913663\n",
       "robot                                                                       0.890573\n",
       "blahblahblahblahblahblahblahblahblahblahblahblahblahblahblahblahblahblah    0.883381\n",
       "nr                                                                          0.879292\n",
       "esperanto                                                                   0.864549\n",
       "uzumakis                                                                    0.859902\n",
       "ernest                                                                      0.859825\n",
       "bad                                                                         0.851258\n",
       "wei                                                                         0.843160\n",
       "darkman                                                                     0.838596\n",
       "primary                                                                     0.833850\n",
       "lupin                                                                       0.831662\n",
       "cycle                                                                       0.829345\n",
       "jokes                                                                       0.821357\n",
       "akasha                                                                      0.819173\n",
       "shemp                                                                       0.818947\n",
       "botched                                                                     0.816170\n",
       "steve                                                                       0.816081\n",
       "Name: 0, dtype: float64"
      ]
     },
     "execution_count": 25,
     "metadata": {},
     "output_type": "execute_result"
    }
   ],
   "source": [
    "Lseries"
   ]
  },
  {
   "cell_type": "code",
   "execution_count": 28,
   "id": "c6da8695",
   "metadata": {},
   "outputs": [
    {
     "data": {
      "text/plain": [
       "0.85272"
      ]
     },
     "execution_count": 28,
     "metadata": {},
     "output_type": "execute_result"
    }
   ],
   "source": [
    "X_test_vectorized = vect.transform(X_test)\n",
    "clfrNB2 = BernoulliNB(alpha = 0.1)\n",
    "clfrNB2.fit(X_train_vectorized, Y_train)\n",
    "predicted_labels = clfrNB2.predict(X_test_vectorized)\n",
    "score = accuracy_score(Y_test, predicted_labels)\n",
    "score"
   ]
  },
  {
   "cell_type": "markdown",
   "id": "37ce7070",
   "metadata": {},
   "source": [
    "## Complement Naive Bayes"
   ]
  },
  {
   "cell_type": "code",
   "execution_count": 9,
   "id": "73dce984",
   "metadata": {},
   "outputs": [
    {
     "data": {
      "text/plain": [
       "0.8464"
      ]
     },
     "execution_count": 9,
     "metadata": {},
     "output_type": "execute_result"
    }
   ],
   "source": [
    "vect = CountVectorizer().fit(X_train)\n",
    "X_train_vectorized = vect.transform(X_train)\n",
    "X_test_vectorized = vect.transform(X_test)\n",
    "clfrNB3 = ComplementNB()\n",
    "clfrNB3.fit(X_train_vectorized, Y_train)\n",
    "predicted_labels = clfrNB3.predict(X_test_vectorized)\n",
    "score = accuracy_score(Y_test, predicted_labels)\n",
    "score"
   ]
  },
  {
   "cell_type": "code",
   "execution_count": 65,
   "id": "8e51f098",
   "metadata": {},
   "outputs": [
    {
     "data": {
      "text/plain": [
       "0.86224"
      ]
     },
     "execution_count": 65,
     "metadata": {},
     "output_type": "execute_result"
    }
   ],
   "source": [
    "vect = TfidfVectorizer().fit(X_train)\n",
    "X_train_vectorized = vect.transform(X_train)\n",
    "X_test_vectorized = vect.transform(X_test)\n",
    "clfrNB3 = ComplementNB()\n",
    "clfrNB3.fit(X_train_vectorized, Y_train)\n",
    "predicted_labels = clfrNB3.predict(X_test_vectorized)\n",
    "score = accuracy_score(Y_test, predicted_labels)\n",
    "score"
   ]
  },
  {
   "cell_type": "code",
   "execution_count": null,
   "id": "b776b3d9",
   "metadata": {},
   "outputs": [],
   "source": []
  }
 ],
 "metadata": {
  "kernelspec": {
   "display_name": "Python 3 (ipykernel)",
   "language": "python",
   "name": "python3"
  },
  "language_info": {
   "codemirror_mode": {
    "name": "ipython",
    "version": 3
   },
   "file_extension": ".py",
   "mimetype": "text/x-python",
   "name": "python",
   "nbconvert_exporter": "python",
   "pygments_lexer": "ipython3",
   "version": "3.9.7"
  }
 },
 "nbformat": 4,
 "nbformat_minor": 5
}
